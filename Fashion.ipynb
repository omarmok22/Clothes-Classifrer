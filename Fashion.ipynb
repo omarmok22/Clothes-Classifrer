{
  "nbformat": 4,
  "nbformat_minor": 0,
  "metadata": {
    "colab": {
      "name": "Fashion.ipynb",
      "provenance": [],
      "collapsed_sections": []
    },
    "kernelspec": {
      "name": "python3",
      "display_name": "Python 3"
    },
    "language_info": {
      "name": "python"
    },
    "accelerator": "GPU"
  },
  "cells": [
    {
      "cell_type": "code",
      "metadata": {
        "id": "ffjKm67ndxjd"
      },
      "source": [
        "import matplotlib.pyplot as plt\n",
        "import numpy as np \n",
        "from tensorflow.keras.datasets import fashion_mnist\n",
        "from keras.utils import np_utils\n",
        "import keras\n",
        "from keras.models import Sequential\n",
        "from keras.layers import Conv2D, BatchNormalization,MaxPooling2D\n",
        "from keras.layers import Dense , Flatten,Dropout\n",
        "from keras import backend as K\n",
        "import tensorflow as tf"
      ],
      "execution_count": 1,
      "outputs": []
    },
    {
      "cell_type": "code",
      "metadata": {
        "id": "trluMR3ceQMM"
      },
      "source": [
        "(x_train,y_train),(x_test,y_test)=fashion_mnist.load_data()"
      ],
      "execution_count": 2,
      "outputs": []
    },
    {
      "cell_type": "code",
      "metadata": {
        "colab": {
          "base_uri": "https://localhost:8080/"
        },
        "id": "7jrRY0d9emdA",
        "outputId": "144c47a3-f6d7-45fa-d796-086fde80a0d0"
      },
      "source": [
        "print(\"No.of training Samples=\",x_train.shape[0])\n",
        "print(\"No.of test Samples=\",x_test.shape[0])"
      ],
      "execution_count": 3,
      "outputs": [
        {
          "output_type": "stream",
          "name": "stdout",
          "text": [
            "No.of training Samples= 60000\n",
            "No.of test Samples= 10000\n"
          ]
        }
      ]
    },
    {
      "cell_type": "code",
      "metadata": {
        "colab": {
          "base_uri": "https://localhost:8080/",
          "height": 166
        },
        "id": "7coYmYY9fAHE",
        "outputId": "4ed37ed0-a41d-4d1b-c155-b928669bf352"
      },
      "source": [
        "plt.subplot(231)\n",
        "rand_value=np.random.randint(0,x_train.shape[0])\n",
        "plt.imshow(x_train[rand_value], cmap=plt.get_cmap('gray'))"
      ],
      "execution_count": 4,
      "outputs": [
        {
          "output_type": "execute_result",
          "data": {
            "text/plain": [
              "<matplotlib.image.AxesImage at 0x7fc3d13e0d10>"
            ]
          },
          "metadata": {},
          "execution_count": 4
        },
        {
          "output_type": "display_data",
          "data": {
            "image/png": "[encoded data removed]",
            "text/plain": [
              "<Figure size 432x288 with 1 Axes>"
            ]
          },
          "metadata": {
            "needs_background": "light"
          }
        }
      ]
    },
    {
      "cell_type": "code",
      "metadata": {
        "id": "rBN1rh5zg0Tq"
      },
      "source": [
        "\n",
        "img_width=x_train[0].shape[0]\n",
        "img_length=x_train[1].shape[0]"
      ],
      "execution_count": 5,
      "outputs": []
    },
    {
      "cell_type": "code",
      "metadata": {
        "id": "TvrmYNghjpwg"
      },
      "source": [
        "x_train=np.expand_dims(x_train,axis=-1)\n",
        "x_test=np.expand_dims(x_test,axis=-1)"
      ],
      "execution_count": 19,
      "outputs": []
    },
    {
      "cell_type": "code",
      "metadata": {
        "id": "UE7a1xbVkkVl"
      },
      "source": [
        "Input_shape=(28,28,1)"
      ],
      "execution_count": 7,
      "outputs": []
    },
    {
      "cell_type": "code",
      "metadata": {
        "colab": {
          "base_uri": "https://localhost:8080/"
        },
        "id": "cKj2rw33k_0W",
        "outputId": "0406828c-e466-48ca-83b4-1f360c51478d"
      },
      "source": [
        "x_train=x_train.astype('float32')/255.0\n",
        "x_test=x_test.astype('float32')/255.0\n",
        "print(y_train.shape)"
      ],
      "execution_count": 8,
      "outputs": [
        {
          "output_type": "stream",
          "name": "stdout",
          "text": [
            "(60000,)\n"
          ]
        }
      ]
    },
    {
      "cell_type": "code",
      "metadata": {
        "id": "2WJ4dvS-lSLy"
      },
      "source": [
        "y_train=np_utils.to_categorical(y_train)\n",
        "y_test=np_utils.to_categorical(y_test)\n",
        "\n"
      ],
      "execution_count": 9,
      "outputs": []
    },
    {
      "cell_type": "code",
      "metadata": {
        "id": "O_j7l7Rlnh6p"
      },
      "source": [
        "model= Sequential()\n",
        "model.add(Conv2D(32,3,activation='relu',input_shape=(28,28,1)))\n",
        "model.add(BatchNormalization())\n",
        "model.add(Conv2D(64,3,activation='relu'))\n",
        "model.add(BatchNormalization())\n",
        "model.add(MaxPooling2D())\n",
        "model.add(Dropout(0.25))\n",
        "model.add(Flatten())\n",
        "model.add (Dense(128,activation=\"relu\"))\n",
        "model.add(BatchNormalization())\n",
        "model.add(Dropout(0.5))\n",
        "model.add (Dense(10,activation='softmax'))"
      ],
      "execution_count": 23,
      "outputs": []
    },
    {
      "cell_type": "code",
      "metadata": {
        "colab": {
          "base_uri": "https://localhost:8080/"
        },
        "id": "KWfpYL0Zp3wn",
        "outputId": "96ac368a-1d6e-41d2-cb44-38f1a312cce8"
      },
      "source": [
        "model.compile(loss='categorical_crossentropy',\n",
        "optimizer=tf.keras.optimizers.Adam(),metrics=['accuracy'])\n",
        "print(model.summary())"
      ],
      "execution_count": 24,
      "outputs": [
        {
          "output_type": "stream",
          "name": "stdout",
          "text": [
            "Model: \"sequential_2\"\n",
            "_________________________________________________________________\n",
            "Layer (type)                 Output Shape              Param #   \n",
            "=================================================================\n",
            "conv2d_4 (Conv2D)            (None, 26, 26, 32)        320       \n",
            "_________________________________________________________________\n",
            "batch_normalization_6 (Batch (None, 26, 26, 32)        128       \n",
            "_________________________________________________________________\n",
            "conv2d_5 (Conv2D)            (None, 24, 24, 64)        18496     \n",
            "_________________________________________________________________\n",
            "batch_normalization_7 (Batch (None, 24, 24, 64)        256       \n",
            "_________________________________________________________________\n",
            "max_pooling2d_2 (MaxPooling2 (None, 12, 12, 64)        0         \n",
            "_________________________________________________________________\n",
            "dropout_4 (Dropout)          (None, 12, 12, 64)        0         \n",
            "_________________________________________________________________\n",
            "flatten_2 (Flatten)          (None, 9216)              0         \n",
            "_________________________________________________________________\n",
            "dense_4 (Dense)              (None, 128)               1179776   \n",
            "_________________________________________________________________\n",
            "batch_normalization_8 (Batch (None, 128)               512       \n",
            "_________________________________________________________________\n",
            "dropout_5 (Dropout)          (None, 128)               0         \n",
            "_________________________________________________________________\n",
            "dense_5 (Dense)              (None, 10)                1290      \n",
            "=================================================================\n",
            "Total params: 1,200,778\n",
            "Trainable params: 1,200,330\n",
            "Non-trainable params: 448\n",
            "_________________________________________________________________\n",
            "None\n"
          ]
        }
      ]
    },
    {
      "cell_type": "code",
      "metadata": {
        "colab": {
          "base_uri": "https://localhost:8080/"
        },
        "id": "pvG5famfrFEq",
        "outputId": "5142e6f1-2e50-4557-921e-d1d595eb09c4"
      },
      "source": [
        "\n",
        "model.fit(x_train,y_train,batch_size=128,epochs=100,verbose=1,validation_data=(x_test,y_test))"
      ],
      "execution_count": 25,
      "outputs": [
        {
          "output_type": "stream",
          "name": "stdout",
          "text": [
            "Epoch 1/100\n",
            "469/469 [==============================] - 9s 18ms/step - loss: 0.4336 - accuracy: 0.8499 - val_loss: 1.0540 - val_accuracy: 0.6193\n",
            "Epoch 2/100\n",
            "469/469 [==============================] - 8s 17ms/step - loss: 0.2802 - accuracy: 0.9003 - val_loss: 0.2871 - val_accuracy: 0.8936\n",
            "Epoch 3/100\n",
            "469/469 [==============================] - 8s 17ms/step - loss: 0.2377 - accuracy: 0.9147 - val_loss: 0.2465 - val_accuracy: 0.9130\n",
            "Epoch 4/100\n",
            "469/469 [==============================] - 8s 17ms/step - loss: 0.2077 - accuracy: 0.9241 - val_loss: 0.2292 - val_accuracy: 0.9181\n",
            "Epoch 5/100\n",
            "469/469 [==============================] - 8s 17ms/step - loss: 0.1878 - accuracy: 0.9320 - val_loss: 0.2757 - val_accuracy: 0.8989\n",
            "Epoch 6/100\n",
            "469/469 [==============================] - 8s 17ms/step - loss: 0.1702 - accuracy: 0.9371 - val_loss: 0.2188 - val_accuracy: 0.9238\n",
            "Epoch 7/100\n",
            "469/469 [==============================] - 8s 17ms/step - loss: 0.1540 - accuracy: 0.9447 - val_loss: 0.2793 - val_accuracy: 0.9080\n",
            "Epoch 8/100\n",
            "469/469 [==============================] - 8s 17ms/step - loss: 0.1450 - accuracy: 0.9462 - val_loss: 0.2248 - val_accuracy: 0.9196\n",
            "Epoch 9/100\n",
            "469/469 [==============================] - 8s 17ms/step - loss: 0.1309 - accuracy: 0.9519 - val_loss: 0.2369 - val_accuracy: 0.9223\n",
            "Epoch 10/100\n",
            "469/469 [==============================] - 8s 17ms/step - loss: 0.1200 - accuracy: 0.9553 - val_loss: 0.2589 - val_accuracy: 0.9134\n",
            "Epoch 11/100\n",
            "469/469 [==============================] - 8s 17ms/step - loss: 0.1130 - accuracy: 0.9574 - val_loss: 0.2331 - val_accuracy: 0.9260\n",
            "Epoch 12/100\n",
            "469/469 [==============================] - 8s 17ms/step - loss: 0.1097 - accuracy: 0.9599 - val_loss: 0.2314 - val_accuracy: 0.9256\n",
            "Epoch 13/100\n",
            "469/469 [==============================] - 8s 17ms/step - loss: 0.0993 - accuracy: 0.9641 - val_loss: 0.2199 - val_accuracy: 0.9296\n",
            "Epoch 14/100\n",
            "469/469 [==============================] - 8s 17ms/step - loss: 0.0904 - accuracy: 0.9662 - val_loss: 0.2328 - val_accuracy: 0.9281\n",
            "Epoch 15/100\n",
            "469/469 [==============================] - 8s 17ms/step - loss: 0.0863 - accuracy: 0.9689 - val_loss: 0.2402 - val_accuracy: 0.9290\n",
            "Epoch 16/100\n",
            "469/469 [==============================] - 8s 17ms/step - loss: 0.0860 - accuracy: 0.9681 - val_loss: 0.2509 - val_accuracy: 0.9280\n",
            "Epoch 17/100\n",
            "469/469 [==============================] - 8s 17ms/step - loss: 0.0792 - accuracy: 0.9704 - val_loss: 0.2682 - val_accuracy: 0.9258\n",
            "Epoch 18/100\n",
            "469/469 [==============================] - 8s 17ms/step - loss: 0.0769 - accuracy: 0.9713 - val_loss: 0.2866 - val_accuracy: 0.9178\n",
            "Epoch 19/100\n",
            "469/469 [==============================] - 8s 17ms/step - loss: 0.0695 - accuracy: 0.9738 - val_loss: 0.2686 - val_accuracy: 0.9202\n",
            "Epoch 20/100\n",
            "469/469 [==============================] - 8s 17ms/step - loss: 0.0682 - accuracy: 0.9747 - val_loss: 0.2467 - val_accuracy: 0.9280\n",
            "Epoch 21/100\n",
            "469/469 [==============================] - 8s 17ms/step - loss: 0.0634 - accuracy: 0.9766 - val_loss: 0.2490 - val_accuracy: 0.9290\n",
            "Epoch 22/100\n",
            "469/469 [==============================] - 8s 17ms/step - loss: 0.0610 - accuracy: 0.9770 - val_loss: 0.2663 - val_accuracy: 0.9287\n",
            "Epoch 23/100\n",
            "469/469 [==============================] - 8s 17ms/step - loss: 0.0594 - accuracy: 0.9779 - val_loss: 0.2717 - val_accuracy: 0.9285\n",
            "Epoch 24/100\n",
            "469/469 [==============================] - 8s 17ms/step - loss: 0.0548 - accuracy: 0.9800 - val_loss: 0.2679 - val_accuracy: 0.9299\n",
            "Epoch 25/100\n",
            "469/469 [==============================] - 8s 17ms/step - loss: 0.0596 - accuracy: 0.9781 - val_loss: 0.2626 - val_accuracy: 0.9290\n",
            "Epoch 26/100\n",
            "469/469 [==============================] - 8s 17ms/step - loss: 0.0541 - accuracy: 0.9803 - val_loss: 0.2559 - val_accuracy: 0.9339\n",
            "Epoch 27/100\n",
            "469/469 [==============================] - 8s 17ms/step - loss: 0.0511 - accuracy: 0.9816 - val_loss: 0.2761 - val_accuracy: 0.9298\n",
            "Epoch 28/100\n",
            "469/469 [==============================] - 8s 17ms/step - loss: 0.0504 - accuracy: 0.9816 - val_loss: 0.2851 - val_accuracy: 0.9308\n",
            "Epoch 29/100\n",
            "469/469 [==============================] - 8s 17ms/step - loss: 0.0485 - accuracy: 0.9822 - val_loss: 0.2806 - val_accuracy: 0.9302\n",
            "Epoch 30/100\n",
            "469/469 [==============================] - 8s 17ms/step - loss: 0.0486 - accuracy: 0.9821 - val_loss: 0.2784 - val_accuracy: 0.9266\n",
            "Epoch 31/100\n",
            "469/469 [==============================] - 8s 17ms/step - loss: 0.0448 - accuracy: 0.9831 - val_loss: 0.3044 - val_accuracy: 0.9298\n",
            "Epoch 32/100\n",
            "469/469 [==============================] - 8s 17ms/step - loss: 0.0445 - accuracy: 0.9837 - val_loss: 0.2921 - val_accuracy: 0.9296\n",
            "Epoch 33/100\n",
            "469/469 [==============================] - 8s 17ms/step - loss: 0.0424 - accuracy: 0.9843 - val_loss: 0.2758 - val_accuracy: 0.9319\n",
            "Epoch 34/100\n",
            "469/469 [==============================] - 8s 17ms/step - loss: 0.0435 - accuracy: 0.9845 - val_loss: 0.2958 - val_accuracy: 0.9307\n",
            "Epoch 35/100\n",
            "469/469 [==============================] - 8s 17ms/step - loss: 0.0419 - accuracy: 0.9845 - val_loss: 0.2871 - val_accuracy: 0.9310\n",
            "Epoch 36/100\n",
            "469/469 [==============================] - 8s 17ms/step - loss: 0.0423 - accuracy: 0.9844 - val_loss: 0.3092 - val_accuracy: 0.9310\n",
            "Epoch 37/100\n",
            "469/469 [==============================] - 8s 17ms/step - loss: 0.0413 - accuracy: 0.9843 - val_loss: 0.3045 - val_accuracy: 0.9295\n",
            "Epoch 38/100\n",
            "469/469 [==============================] - 8s 17ms/step - loss: 0.0396 - accuracy: 0.9857 - val_loss: 0.3037 - val_accuracy: 0.9308\n",
            "Epoch 39/100\n",
            "469/469 [==============================] - 8s 17ms/step - loss: 0.0409 - accuracy: 0.9855 - val_loss: 0.3201 - val_accuracy: 0.9293\n",
            "Epoch 40/100\n",
            "469/469 [==============================] - 8s 17ms/step - loss: 0.0366 - accuracy: 0.9867 - val_loss: 0.3149 - val_accuracy: 0.9242\n",
            "Epoch 41/100\n",
            "469/469 [==============================] - 8s 17ms/step - loss: 0.0387 - accuracy: 0.9853 - val_loss: 0.3196 - val_accuracy: 0.9314\n",
            "Epoch 42/100\n",
            "469/469 [==============================] - 8s 17ms/step - loss: 0.0333 - accuracy: 0.9874 - val_loss: 0.3320 - val_accuracy: 0.9314\n",
            "Epoch 43/100\n",
            "469/469 [==============================] - 8s 17ms/step - loss: 0.0352 - accuracy: 0.9872 - val_loss: 0.3363 - val_accuracy: 0.9312\n",
            "Epoch 44/100\n",
            "469/469 [==============================] - 8s 17ms/step - loss: 0.0342 - accuracy: 0.9877 - val_loss: 0.3192 - val_accuracy: 0.9313\n",
            "Epoch 45/100\n",
            "469/469 [==============================] - 8s 17ms/step - loss: 0.0377 - accuracy: 0.9863 - val_loss: 0.3143 - val_accuracy: 0.9314\n",
            "Epoch 46/100\n",
            "469/469 [==============================] - 8s 17ms/step - loss: 0.0348 - accuracy: 0.9873 - val_loss: 0.3159 - val_accuracy: 0.9320\n",
            "Epoch 47/100\n",
            "469/469 [==============================] - 8s 17ms/step - loss: 0.0320 - accuracy: 0.9886 - val_loss: 0.3239 - val_accuracy: 0.9328\n",
            "Epoch 48/100\n",
            "469/469 [==============================] - 8s 17ms/step - loss: 0.0329 - accuracy: 0.9884 - val_loss: 0.3366 - val_accuracy: 0.9306\n",
            "Epoch 49/100\n",
            "469/469 [==============================] - 8s 17ms/step - loss: 0.0307 - accuracy: 0.9887 - val_loss: 0.3157 - val_accuracy: 0.9310\n",
            "Epoch 50/100\n",
            "469/469 [==============================] - 8s 17ms/step - loss: 0.0308 - accuracy: 0.9890 - val_loss: 0.3442 - val_accuracy: 0.9288\n",
            "Epoch 51/100\n",
            "469/469 [==============================] - 8s 17ms/step - loss: 0.0317 - accuracy: 0.9882 - val_loss: 0.3809 - val_accuracy: 0.9288\n",
            "Epoch 52/100\n",
            "469/469 [==============================] - 8s 17ms/step - loss: 0.0317 - accuracy: 0.9884 - val_loss: 0.3627 - val_accuracy: 0.9324\n",
            "Epoch 53/100\n",
            "469/469 [==============================] - 8s 17ms/step - loss: 0.0300 - accuracy: 0.9884 - val_loss: 0.3649 - val_accuracy: 0.9316\n",
            "Epoch 54/100\n",
            "469/469 [==============================] - 8s 17ms/step - loss: 0.0298 - accuracy: 0.9888 - val_loss: 0.3214 - val_accuracy: 0.9322\n",
            "Epoch 55/100\n",
            "469/469 [==============================] - 8s 17ms/step - loss: 0.0291 - accuracy: 0.9892 - val_loss: 0.3513 - val_accuracy: 0.9279\n",
            "Epoch 56/100\n",
            "469/469 [==============================] - 8s 17ms/step - loss: 0.0315 - accuracy: 0.9883 - val_loss: 0.3516 - val_accuracy: 0.9351\n",
            "Epoch 57/100\n",
            "469/469 [==============================] - 8s 17ms/step - loss: 0.0272 - accuracy: 0.9903 - val_loss: 0.3513 - val_accuracy: 0.9317\n",
            "Epoch 58/100\n",
            "469/469 [==============================] - 8s 17ms/step - loss: 0.0287 - accuracy: 0.9895 - val_loss: 0.3305 - val_accuracy: 0.9351\n",
            "Epoch 59/100\n",
            "469/469 [==============================] - 8s 17ms/step - loss: 0.0277 - accuracy: 0.9903 - val_loss: 0.3223 - val_accuracy: 0.9334\n",
            "Epoch 60/100\n",
            "469/469 [==============================] - 8s 17ms/step - loss: 0.0286 - accuracy: 0.9895 - val_loss: 0.3516 - val_accuracy: 0.9307\n",
            "Epoch 61/100\n",
            "469/469 [==============================] - 8s 17ms/step - loss: 0.0269 - accuracy: 0.9901 - val_loss: 0.3409 - val_accuracy: 0.9337\n",
            "Epoch 62/100\n",
            "469/469 [==============================] - 8s 17ms/step - loss: 0.0256 - accuracy: 0.9905 - val_loss: 0.3381 - val_accuracy: 0.9329\n",
            "Epoch 63/100\n",
            "469/469 [==============================] - 8s 17ms/step - loss: 0.0257 - accuracy: 0.9910 - val_loss: 0.3467 - val_accuracy: 0.9313\n",
            "Epoch 64/100\n",
            "469/469 [==============================] - 8s 17ms/step - loss: 0.0280 - accuracy: 0.9902 - val_loss: 0.3449 - val_accuracy: 0.9337\n",
            "Epoch 65/100\n",
            "469/469 [==============================] - 8s 17ms/step - loss: 0.0275 - accuracy: 0.9898 - val_loss: 0.3300 - val_accuracy: 0.9285\n",
            "Epoch 66/100\n",
            "469/469 [==============================] - 8s 17ms/step - loss: 0.0269 - accuracy: 0.9904 - val_loss: 0.3439 - val_accuracy: 0.9322\n",
            "Epoch 67/100\n",
            "469/469 [==============================] - 8s 17ms/step - loss: 0.0234 - accuracy: 0.9911 - val_loss: 0.3231 - val_accuracy: 0.9332\n",
            "Epoch 68/100\n",
            "469/469 [==============================] - 8s 17ms/step - loss: 0.0249 - accuracy: 0.9913 - val_loss: 0.3465 - val_accuracy: 0.9308\n",
            "Epoch 69/100\n",
            "469/469 [==============================] - 8s 17ms/step - loss: 0.0239 - accuracy: 0.9915 - val_loss: 0.3715 - val_accuracy: 0.9326\n",
            "Epoch 70/100\n",
            "469/469 [==============================] - 8s 17ms/step - loss: 0.0253 - accuracy: 0.9909 - val_loss: 0.3354 - val_accuracy: 0.9305\n",
            "Epoch 71/100\n",
            "469/469 [==============================] - 8s 17ms/step - loss: 0.0263 - accuracy: 0.9910 - val_loss: 0.3415 - val_accuracy: 0.9318\n",
            "Epoch 72/100\n",
            "469/469 [==============================] - 8s 17ms/step - loss: 0.0223 - accuracy: 0.9920 - val_loss: 0.3388 - val_accuracy: 0.9340\n",
            "Epoch 73/100\n",
            "469/469 [==============================] - 8s 17ms/step - loss: 0.0237 - accuracy: 0.9916 - val_loss: 0.3376 - val_accuracy: 0.9261\n",
            "Epoch 74/100\n",
            "469/469 [==============================] - 8s 17ms/step - loss: 0.0232 - accuracy: 0.9920 - val_loss: 0.3498 - val_accuracy: 0.9340\n",
            "Epoch 75/100\n",
            "469/469 [==============================] - 8s 17ms/step - loss: 0.0220 - accuracy: 0.9919 - val_loss: 0.3507 - val_accuracy: 0.9266\n",
            "Epoch 76/100\n",
            "469/469 [==============================] - 8s 17ms/step - loss: 0.0240 - accuracy: 0.9914 - val_loss: 0.3561 - val_accuracy: 0.9314\n",
            "Epoch 77/100\n",
            "469/469 [==============================] - 8s 17ms/step - loss: 0.0219 - accuracy: 0.9923 - val_loss: 0.3419 - val_accuracy: 0.9335\n",
            "Epoch 78/100\n",
            "469/469 [==============================] - 8s 17ms/step - loss: 0.0221 - accuracy: 0.9919 - val_loss: 0.3670 - val_accuracy: 0.9315\n",
            "Epoch 79/100\n",
            "469/469 [==============================] - 8s 17ms/step - loss: 0.0248 - accuracy: 0.9913 - val_loss: 0.3684 - val_accuracy: 0.9346\n",
            "Epoch 80/100\n",
            "469/469 [==============================] - 8s 17ms/step - loss: 0.0230 - accuracy: 0.9915 - val_loss: 0.3462 - val_accuracy: 0.9338\n",
            "Epoch 81/100\n",
            "469/469 [==============================] - 8s 17ms/step - loss: 0.0212 - accuracy: 0.9925 - val_loss: 0.3856 - val_accuracy: 0.9344\n",
            "Epoch 82/100\n",
            "469/469 [==============================] - 8s 17ms/step - loss: 0.0220 - accuracy: 0.9921 - val_loss: 0.3681 - val_accuracy: 0.9306\n",
            "Epoch 83/100\n",
            "469/469 [==============================] - 8s 17ms/step - loss: 0.0228 - accuracy: 0.9919 - val_loss: 0.3760 - val_accuracy: 0.9343\n",
            "Epoch 84/100\n",
            "469/469 [==============================] - 8s 17ms/step - loss: 0.0189 - accuracy: 0.9934 - val_loss: 0.3635 - val_accuracy: 0.9348\n",
            "Epoch 85/100\n",
            "469/469 [==============================] - 8s 17ms/step - loss: 0.0196 - accuracy: 0.9934 - val_loss: 0.4026 - val_accuracy: 0.9313\n",
            "Epoch 86/100\n",
            "469/469 [==============================] - 8s 17ms/step - loss: 0.0241 - accuracy: 0.9916 - val_loss: 0.3615 - val_accuracy: 0.9296\n",
            "Epoch 87/100\n",
            "469/469 [==============================] - 8s 17ms/step - loss: 0.0201 - accuracy: 0.9930 - val_loss: 0.3676 - val_accuracy: 0.9314\n",
            "Epoch 88/100\n",
            "469/469 [==============================] - 8s 17ms/step - loss: 0.0221 - accuracy: 0.9923 - val_loss: 0.3362 - val_accuracy: 0.9316\n",
            "Epoch 89/100\n",
            "469/469 [==============================] - 8s 17ms/step - loss: 0.0229 - accuracy: 0.9918 - val_loss: 0.3618 - val_accuracy: 0.9330\n",
            "Epoch 90/100\n",
            "469/469 [==============================] - 8s 17ms/step - loss: 0.0206 - accuracy: 0.9926 - val_loss: 0.4267 - val_accuracy: 0.9309\n",
            "Epoch 91/100\n",
            "469/469 [==============================] - 8s 17ms/step - loss: 0.0201 - accuracy: 0.9927 - val_loss: 0.3662 - val_accuracy: 0.9328\n",
            "Epoch 92/100\n",
            "469/469 [==============================] - 8s 17ms/step - loss: 0.0214 - accuracy: 0.9923 - val_loss: 0.3576 - val_accuracy: 0.9318\n",
            "Epoch 93/100\n",
            "469/469 [==============================] - 8s 17ms/step - loss: 0.0206 - accuracy: 0.9927 - val_loss: 0.3553 - val_accuracy: 0.9320\n",
            "Epoch 94/100\n",
            "469/469 [==============================] - 8s 17ms/step - loss: 0.0205 - accuracy: 0.9925 - val_loss: 0.3521 - val_accuracy: 0.9355\n",
            "Epoch 95/100\n",
            "469/469 [==============================] - 8s 17ms/step - loss: 0.0169 - accuracy: 0.9938 - val_loss: 0.3776 - val_accuracy: 0.9314\n",
            "Epoch 96/100\n",
            "469/469 [==============================] - 8s 17ms/step - loss: 0.0196 - accuracy: 0.9928 - val_loss: 0.3761 - val_accuracy: 0.9319\n",
            "Epoch 97/100\n",
            "469/469 [==============================] - 8s 17ms/step - loss: 0.0198 - accuracy: 0.9930 - val_loss: 0.3821 - val_accuracy: 0.9312\n",
            "Epoch 98/100\n",
            "469/469 [==============================] - 8s 17ms/step - loss: 0.0177 - accuracy: 0.9937 - val_loss: 0.3781 - val_accuracy: 0.9270\n",
            "Epoch 99/100\n",
            "469/469 [==============================] - 8s 17ms/step - loss: 0.0210 - accuracy: 0.9927 - val_loss: 0.3750 - val_accuracy: 0.9353\n",
            "Epoch 100/100\n",
            "469/469 [==============================] - 8s 17ms/step - loss: 0.0200 - accuracy: 0.9932 - val_loss: 0.3812 - val_accuracy: 0.9349\n"
          ]
        },
        {
          "output_type": "execute_result",
          "data": {
            "text/plain": [
              "<keras.callbacks.History at 0x7fc3247bf810>"
            ]
          },
          "metadata": {},
          "execution_count": 25
        }
      ]
    },
    {
      "cell_type": "code",
      "metadata": {
        "colab": {
          "base_uri": "https://localhost:8080/"
        },
        "id": "ROXFwe3ItfSP",
        "outputId": "86c02c57-ee0b-46fb-813b-080632f80456"
      },
      "source": [
        "score =model.evaluate(x_test,y_test)\n",
        "print(\"Test loss=\" ,score[0])\n",
        "print(\"Test accuracy=\" ,score[1])"
      ],
      "execution_count": 26,
      "outputs": [
        {
          "output_type": "stream",
          "name": "stdout",
          "text": [
            "313/313 [==============================] - 1s 5ms/step - loss: 0.3812 - accuracy: 0.9349\n",
            "Test loss= 0.38122567534446716\n",
            "Test accuracy= 0.9348999857902527\n"
          ]
        }
      ]
    },
    {
      "cell_type": "code",
      "metadata": {
        "id": "QovBAA8SvEYe"
      },
      "source": [
        "model.save(\"fashion.h5\")"
      ],
      "execution_count": 27,
      "outputs": []
    },
    {
      "cell_type": "code",
      "metadata": {
        "id": "AAtdvcNWvNJ0"
      },
      "source": [
        "from keras.models import load_model\n",
        "from keras.preprocessing.image import load_img\n",
        "from keras.preprocessing.image import img_to_array\n"
      ],
      "execution_count": 29,
      "outputs": []
    },
    {
      "cell_type": "code",
      "metadata": {
        "id": "TLCvSlc1v7ry"
      },
      "source": [
        "def load_image(filename):\n",
        "    # Load the image\n",
        "    img = load_img(filename, grayscale=True, target_size=(28, 28))\n",
        "    # Convert the image to array\n",
        "    img = img_to_array(img)\n",
        "    # Reshape the image into a sample of 1 channel\n",
        "    img = img.reshape(1, 28, 28, 1)\n",
        "    # Prepare it as pixel data\n",
        "    img = img.astype('float32')\n",
        "    img = img / 255.0\n",
        "    return img"
      ],
      "execution_count": 41,
      "outputs": []
    },
    {
      "cell_type": "code",
      "metadata": {
        "colab": {
          "base_uri": "https://localhost:8080/"
        },
        "id": "9g6tz8ftyyGK",
        "outputId": "58732e7d-b532-4e05-e0a3-b540fdd47ba8"
      },
      "source": [
        "img = load_image(r'/pullover.jpg')\n",
        "# Load the saved model\n",
        "class_prediction = model.predict(img)\n",
        "\n",
        "y_pred = np.round(class_prediction).astype(int)\n",
        "print(class_prediction)"
      ],
      "execution_count": 42,
      "outputs": [
        {
          "output_type": "stream",
          "name": "stderr",
          "text": [
            "/usr/local/lib/python3.7/dist-packages/keras_preprocessing/image/utils.py:107: UserWarning: grayscale is deprecated. Please use color_mode = \"grayscale\"\n",
            "  warnings.warn('grayscale is deprecated. Please use '\n"
          ]
        },
        {
          "output_type": "stream",
          "name": "stdout",
          "text": [
            "[[1.2811700e-12 2.9727848e-10 6.9488896e-18 5.7458942e-15 2.3238597e-11\n",
            "  2.9691649e-13 8.0155242e-20 5.4021228e-12 1.0000000e+00 5.7455308e-12]]\n"
          ]
        }
      ]
    },
    {
      "cell_type": "code",
      "metadata": {
        "id": "6fDAoUEw12B_"
      },
      "source": [
        ""
      ],
      "execution_count": null,
      "outputs": []
    }
  ]
}